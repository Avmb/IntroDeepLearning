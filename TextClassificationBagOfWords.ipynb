{
 "cells": [
  {
   "cell_type": "markdown",
   "metadata": {},
   "source": [
    "<h1>Text classification with a bag-of-words linear classifier</h1>"
   ]
  },
  {
   "cell_type": "markdown",
   "metadata": {},
   "source": [
    "Adapted from https://github.com/pytorch/tutorials/blob/master/beginner_source/text_sentiment_ngrams_tutorial.py"
   ]
  },
  {
   "cell_type": "code",
   "execution_count": 192,
   "metadata": {},
   "outputs": [],
   "source": [
    "import sys\n",
    "import numpy as np\n",
    "\n",
    "import torch\n",
    "from torchtext.datasets import text_classification"
   ]
  },
  {
   "cell_type": "code",
   "execution_count": 8,
   "metadata": {},
   "outputs": [
    {
     "name": "stderr",
     "output_type": "stream",
     "text": [
      "120000lines [00:05, 21748.40lines/s]\n",
      "120000lines [00:10, 11131.72lines/s]\n",
      "7600lines [00:00, 10167.62lines/s]\n"
     ]
    }
   ],
   "source": [
    "NGRAMS = 1\n",
    "import os\n",
    "if not os.path.isdir('./.data'):\n",
    "\tos.mkdir('./.data')\n",
    "train_dataset, test_dataset = text_classification.DATASETS['AG_NEWS'](\n",
    "    root='./.data', ngrams=NGRAMS, vocab=None)\n",
    "BATCH_SIZE = 16\n",
    "device = torch.device(\"cuda\" if torch.cuda.is_available() else \"cpu\")"
   ]
  },
  {
   "cell_type": "code",
   "execution_count": 214,
   "metadata": {},
   "outputs": [],
   "source": [
    "import torch.nn as nn\n",
    "import torch.nn.functional as F\n",
    "class TextSentiment(nn.Module):\n",
    "    def __init__(self, vocab_size, embed_dim, num_class):\n",
    "        super().__init__()\n",
    "        self.embedding = nn.Embedding(vocab_size, embed_dim)\n",
    "        self.fc = nn.Linear(embed_dim, num_class)\n",
    "\n",
    "    def forward(self, text, masks, lens):\n",
    "        embedded = self.embedding(text)\n",
    "        # Avg bag-of-words\n",
    "        masked_emb = embedded * masks.unsqueeze(-1)\n",
    "        avg_emb = torch.sum(masked_emb, 1) / lens.unsqueeze(-1)\n",
    "        return self.fc(avg_emb)"
   ]
  },
  {
   "cell_type": "code",
   "execution_count": 215,
   "metadata": {},
   "outputs": [],
   "source": [
    "VOCAB_SIZE = len(train_dataset.get_vocab())\n",
    "EMBED_DIM = 32\n",
    "NUN_CLASS = len(train_dataset.get_labels())\n",
    "model = TextSentiment(VOCAB_SIZE, EMBED_DIM, NUN_CLASS).to(device)"
   ]
  },
  {
   "cell_type": "code",
   "execution_count": 216,
   "metadata": {},
   "outputs": [],
   "source": [
    "from torch.utils.data import DataLoader\n",
    "\n",
    "# Generate the pad id\n",
    "pad_id = train_dataset.get_vocab()['<pad>']\n",
    "\n",
    "def pad_data(data):\n",
    "    # Find max length of the mini-batch\n",
    "    lens = list(zip(*data))[0]\n",
    "    max_len = max(lens)\n",
    "    label_list = list(zip(*data))[2]\n",
    "    txt_list = list(zip(*data))[3]\n",
    "    padded_tensors = torch.stack([torch.cat((txt, \\\n",
    "            torch.tensor([pad_id] * (max_len - len(txt))).long())) \\\n",
    "            for txt in txt_list])\n",
    "    lens = torch.LongTensor(lens)\n",
    "    mask = torch.arange(max_len)[None, :] < lens[:, None]\n",
    "    return padded_tensors, torch.LongTensor(label_list), mask, lens\n",
    "\n",
    "def get_data_loader(dataset_, **kwargs):\n",
    "    # Generate a list of tuples of text length, index, label, text\n",
    "    dataset_sorted = [(len(txt), idx, label, txt) for idx, (label, txt) in enumerate(dataset_)]\n",
    "    dataset_sorted.sort() # sort by length and pad sequences with similar lengths\n",
    "    return DataLoader(dataset_sorted, collate_fn=pad_data, **kwargs)"
   ]
  },
  {
   "cell_type": "code",
   "execution_count": 217,
   "metadata": {},
   "outputs": [],
   "source": [
    "def train_func(sub_train_):\n",
    "\n",
    "    # Train the model\n",
    "    train_loss = 0\n",
    "    train_acc = 0\n",
    "    data = get_data_loader(sub_train_, batch_size=BATCH_SIZE, shuffle=True)\n",
    "    for i, (text, labels, masks, lens) in enumerate(data):\n",
    "        optimizer.zero_grad()\n",
    "        text, labels, masks, lens = (v.to(device) for v in (text, labels, masks, lens))\n",
    "        output = model(text, masks, lens)\n",
    "        loss = criterion(output, labels)\n",
    "        train_loss += loss.item()\n",
    "        loss.backward()\n",
    "        optimizer.step()\n",
    "        train_acc += (output.argmax(1) == labels).sum().item()\n",
    "\n",
    "    return train_loss / len(sub_train_), train_acc / len(sub_train_)\n",
    "\n",
    "def test(data_):\n",
    "    loss = 0\n",
    "    acc = 0\n",
    "    data = get_data_loader(data_, batch_size=BATCH_SIZE)\n",
    "    for text, labels, masks, lens in data:\n",
    "        text, labels, masks, lens = (v.to(device) for v in (text, labels, masks, lens))\n",
    "        with torch.no_grad():\n",
    "            output = model(text, masks, lens)\n",
    "            loss = criterion(output, labels)\n",
    "            loss += loss.item()\n",
    "            acc += (output.argmax(1) == labels).sum().item()\n",
    "\n",
    "    return loss / len(data_), acc / len(data_)"
   ]
  },
  {
   "cell_type": "code",
   "execution_count": 218,
   "metadata": {},
   "outputs": [
    {
     "name": "stdout",
     "output_type": "stream",
     "text": [
      "Epoch: 1  | time in 0 minutes, 22 seconds\n",
      "\tLoss: 0.0330(train)\t|\tAcc: 82.3%(train)\n",
      "\tLoss: 0.0003(valid)\t|\tAcc: 90.3%(valid)\n",
      "Epoch: 2  | time in 0 minutes, 22 seconds\n",
      "\tLoss: 0.0163(train)\t|\tAcc: 91.4%(train)\n",
      "\tLoss: 0.0003(valid)\t|\tAcc: 91.4%(valid)\n",
      "Epoch: 3  | time in 0 minutes, 22 seconds\n",
      "\tLoss: 0.0131(train)\t|\tAcc: 93.1%(train)\n",
      "\tLoss: 0.0003(valid)\t|\tAcc: 91.8%(valid)\n",
      "Epoch: 4  | time in 0 minutes, 21 seconds\n",
      "\tLoss: 0.0111(train)\t|\tAcc: 94.2%(train)\n",
      "\tLoss: 0.0003(valid)\t|\tAcc: 92.2%(valid)\n",
      "Epoch: 5  | time in 0 minutes, 21 seconds\n",
      "\tLoss: 0.0096(train)\t|\tAcc: 94.9%(train)\n",
      "\tLoss: 0.0003(valid)\t|\tAcc: 92.2%(valid)\n",
      "Epoch: 6  | time in 0 minutes, 22 seconds\n",
      "\tLoss: 0.0085(train)\t|\tAcc: 95.5%(train)\n",
      "\tLoss: 0.0003(valid)\t|\tAcc: 92.2%(valid)\n",
      "Epoch: 7  | time in 0 minutes, 22 seconds\n",
      "\tLoss: 0.0076(train)\t|\tAcc: 96.0%(train)\n",
      "\tLoss: 0.0003(valid)\t|\tAcc: 92.0%(valid)\n"
     ]
    }
   ],
   "source": [
    "import time\n",
    "from torch.utils.data.dataset import random_split\n",
    "N_EPOCHS = 7\n",
    "min_valid_loss = float('inf')\n",
    "\n",
    "criterion = torch.nn.CrossEntropyLoss().to(device)\n",
    "#optimizer = torch.optim.SGD(model.parameters(), lr=4.0)\n",
    "#scheduler = torch.optim.lr_scheduler.StepLR(optimizer, 1, gamma=0.9)\n",
    "optimizer = torch.optim.Adam(model.parameters())\n",
    "\n",
    "train_len = int(len(train_dataset) * 0.95)\n",
    "sub_train_, sub_valid_ = \\\n",
    "    random_split(train_dataset, [train_len, len(train_dataset) - train_len])\n",
    "\n",
    "for epoch in range(N_EPOCHS):\n",
    "\n",
    "    start_time = time.time()\n",
    "    train_loss, train_acc = train_func(sub_train_)\n",
    "    valid_loss, valid_acc = test(sub_valid_)\n",
    "\n",
    "    secs = int(time.time() - start_time)\n",
    "    mins = secs / 60\n",
    "    secs = secs % 60\n",
    "\n",
    "    print('Epoch: %d' %(epoch + 1), \" | time in %d minutes, %d seconds\" %(mins, secs))\n",
    "    print(f'\\tLoss: {train_loss:.4f}(train)\\t|\\tAcc: {train_acc * 100:.1f}%(train)')\n",
    "    print(f'\\tLoss: {valid_loss:.4f}(valid)\\t|\\tAcc: {valid_acc * 100:.1f}%(valid)')\n"
   ]
  },
  {
   "cell_type": "code",
   "execution_count": 219,
   "metadata": {},
   "outputs": [
    {
     "name": "stdout",
     "output_type": "stream",
     "text": [
      "Checking the results of test dataset...\n",
      "\tLoss: 0.0001(test)\t|\tAcc: 91.4%(test)\n"
     ]
    }
   ],
   "source": [
    "print('Checking the results of test dataset...')\n",
    "test_loss, test_acc = test(test_dataset)\n",
    "print(f'\\tLoss: {test_loss:.4f}(test)\\t|\\tAcc: {test_acc * 100:.1f}%(test)')"
   ]
  },
  {
   "cell_type": "code",
   "execution_count": 220,
   "metadata": {},
   "outputs": [
    {
     "name": "stdout",
     "output_type": "stream",
     "text": [
      "This is a Sports news\n"
     ]
    }
   ],
   "source": [
    "import re\n",
    "from torchtext.data.utils import ngrams_iterator\n",
    "from torchtext.data.utils import get_tokenizer\n",
    "\n",
    "ag_news_label = {1 : \"World\",\n",
    "                 2 : \"Sports\",\n",
    "                 3 : \"Business\",\n",
    "                 4 : \"Sci/Tec\"}\n",
    "\n",
    "def predict(text, model, vocab, ngrams):\n",
    "    tokenizer = get_tokenizer(\"basic_english\")\n",
    "    with torch.no_grad():\n",
    "        text = torch.tensor([vocab[token]\n",
    "                            for token in ngrams_iterator(tokenizer(text), ngrams)])\n",
    "        text_len = text.size()[0]\n",
    "        text = text.unsqueeze(0)\n",
    "        mask = torch.BoolTensor([[True]*text_len])\n",
    "        len_tensor = torch.LongTensor([text_len])\n",
    "        output = model(text, mask, len_tensor)\n",
    "        return output.argmax(1).item() + 1\n",
    "\n",
    "ex_text_str = \"MEMPHIS, Tenn. – Four days ago, Jon Rahm was \\\n",
    "    enduring the season’s worst weather conditions on Sunday at The \\\n",
    "    Open on his way to a closing 75 at Royal Portrush, which \\\n",
    "    considering the wind and the rain was a respectable showing. \\\n",
    "    Thursday’s first round at the WGC-FedEx St. Jude Invitational \\\n",
    "    was another story. With temperatures in the mid-80s and hardly any \\\n",
    "    wind, the Spaniard was 13 strokes better in a flawless round. \\\n",
    "    Thanks to his best putting performance on the PGA Tour, Rahm \\\n",
    "    finished with an 8-under 62 for a three-stroke lead, which \\\n",
    "    was even more impressive considering he’d never played the \\\n",
    "    front nine at TPC Southwind.\"\n",
    "\n",
    "vocab = train_dataset.get_vocab()\n",
    "model = model.to(\"cpu\")\n",
    "\n",
    "print(\"This is a %s news\" %ag_news_label[predict(ex_text_str, model, vocab, 2)])\n"
   ]
  },
  {
   "cell_type": "code",
   "execution_count": null,
   "metadata": {},
   "outputs": [],
   "source": []
  }
 ],
 "metadata": {
  "kernelspec": {
   "display_name": "Python 3",
   "language": "python",
   "name": "python3"
  },
  "language_info": {
   "codemirror_mode": {
    "name": "ipython",
    "version": 3
   },
   "file_extension": ".py",
   "mimetype": "text/x-python",
   "name": "python",
   "nbconvert_exporter": "python",
   "pygments_lexer": "ipython3",
   "version": "3.6.9"
  }
 },
 "nbformat": 4,
 "nbformat_minor": 4
}
