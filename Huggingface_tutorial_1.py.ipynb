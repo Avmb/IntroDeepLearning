{
 "cells": [
  {
   "cell_type": "code",
   "execution_count": 5,
   "metadata": {},
   "outputs": [],
   "source": [
    "import sys\n",
    "import numpy as np\n",
    "import torch\n",
    "dummy = torch.zeros(1).cuda()\n",
    "from transformers import *"
   ]
  },
  {
   "cell_type": "code",
   "execution_count": 6,
   "metadata": {},
   "outputs": [],
   "source": [
    "# Transformers has a unified API\n",
    "# for 10 transformer architectures and 30 pretrained weights.\n",
    "#          Model          | Tokenizer          | Pretrained weights shortcut\n",
    "MODELS = [(BertModel,       BertTokenizer,       'bert-base-uncased'),\n",
    "          (OpenAIGPTModel,  OpenAIGPTTokenizer,  'openai-gpt'),\n",
    "          (GPT2Model,       GPT2Tokenizer,       'gpt2'),\n",
    "          (CTRLModel,       CTRLTokenizer,       'ctrl'),\n",
    "          (TransfoXLModel,  TransfoXLTokenizer,  'transfo-xl-wt103'),\n",
    "          (XLNetModel,      XLNetTokenizer,      'xlnet-base-cased'),\n",
    "          (XLMModel,        XLMTokenizer,        'xlm-mlm-enfr-1024'),\n",
    "          (DistilBertModel, DistilBertTokenizer, 'distilbert-base-cased'),\n",
    "          (RobertaModel,    RobertaTokenizer,    'roberta-base'),\n",
    "          (XLMRobertaModel, XLMRobertaTokenizer, 'xlm-roberta-base'),\n",
    "         ]"
   ]
  },
  {
   "cell_type": "code",
   "execution_count": 3,
   "metadata": {},
   "outputs": [],
   "source": [
    "# Let's encode some text in a sequence of hidden-states using each model:\n",
    "for model_class, tokenizer_class, pretrained_weights in MODELS:\n",
    "    # Load pretrained model/tokenizer\n",
    "    tokenizer = tokenizer_class.from_pretrained(pretrained_weights)\n",
    "    model = model_class.from_pretrained(pretrained_weights)\n",
    "\n",
    "    # Encode text\n",
    "    input_ids = torch.tensor([tokenizer.encode(\"Here is some text to encode\", add_special_tokens=True)])  # Add special tokens takes care of adding [CLS], [SEP], <s>... tokens in the right way for each model.\n",
    "    with torch.no_grad():\n",
    "        last_hidden_states = model(input_ids)[0]  # Models outputs are now tuples"
   ]
  },
  {
   "cell_type": "code",
   "execution_count": 7,
   "metadata": {},
   "outputs": [
    {
     "name": "stdout",
     "output_type": "stream",
     "text": [
      "<class 'transformers.modeling_bert.BertModel'>\n",
      "[torch.Size([1, 16, 768]), torch.Size([1, 16, 768]), torch.Size([1, 16, 768]), torch.Size([1, 16, 768]), torch.Size([1, 16, 768]), torch.Size([1, 16, 768]), torch.Size([1, 16, 768]), torch.Size([1, 16, 768]), torch.Size([1, 16, 768]), torch.Size([1, 16, 768]), torch.Size([1, 16, 768]), torch.Size([1, 16, 768]), torch.Size([1, 16, 768])]\n",
      "[torch.Size([1, 12, 16, 16]), torch.Size([1, 12, 16, 16]), torch.Size([1, 12, 16, 16]), torch.Size([1, 12, 16, 16]), torch.Size([1, 12, 16, 16]), torch.Size([1, 12, 16, 16]), torch.Size([1, 12, 16, 16]), torch.Size([1, 12, 16, 16]), torch.Size([1, 12, 16, 16]), torch.Size([1, 12, 16, 16]), torch.Size([1, 12, 16, 16]), torch.Size([1, 12, 16, 16])]\n",
      "<class 'transformers.modeling_bert.BertForPreTraining'>\n",
      "[torch.Size([1, 16, 768]), torch.Size([1, 16, 768]), torch.Size([1, 16, 768]), torch.Size([1, 16, 768]), torch.Size([1, 16, 768]), torch.Size([1, 16, 768]), torch.Size([1, 16, 768]), torch.Size([1, 16, 768]), torch.Size([1, 16, 768]), torch.Size([1, 16, 768]), torch.Size([1, 16, 768]), torch.Size([1, 16, 768]), torch.Size([1, 16, 768])]\n",
      "[torch.Size([1, 12, 16, 16]), torch.Size([1, 12, 16, 16]), torch.Size([1, 12, 16, 16]), torch.Size([1, 12, 16, 16]), torch.Size([1, 12, 16, 16]), torch.Size([1, 12, 16, 16]), torch.Size([1, 12, 16, 16]), torch.Size([1, 12, 16, 16]), torch.Size([1, 12, 16, 16]), torch.Size([1, 12, 16, 16]), torch.Size([1, 12, 16, 16]), torch.Size([1, 12, 16, 16])]\n",
      "<class 'transformers.modeling_bert.BertForMaskedLM'>\n",
      "[torch.Size([1, 16, 768]), torch.Size([1, 16, 768]), torch.Size([1, 16, 768]), torch.Size([1, 16, 768]), torch.Size([1, 16, 768]), torch.Size([1, 16, 768]), torch.Size([1, 16, 768]), torch.Size([1, 16, 768]), torch.Size([1, 16, 768]), torch.Size([1, 16, 768]), torch.Size([1, 16, 768]), torch.Size([1, 16, 768]), torch.Size([1, 16, 768])]\n",
      "[torch.Size([1, 12, 16, 16]), torch.Size([1, 12, 16, 16]), torch.Size([1, 12, 16, 16]), torch.Size([1, 12, 16, 16]), torch.Size([1, 12, 16, 16]), torch.Size([1, 12, 16, 16]), torch.Size([1, 12, 16, 16]), torch.Size([1, 12, 16, 16]), torch.Size([1, 12, 16, 16]), torch.Size([1, 12, 16, 16]), torch.Size([1, 12, 16, 16]), torch.Size([1, 12, 16, 16])]\n",
      "<class 'transformers.modeling_bert.BertForNextSentencePrediction'>\n",
      "[torch.Size([1, 16, 768]), torch.Size([1, 16, 768]), torch.Size([1, 16, 768]), torch.Size([1, 16, 768]), torch.Size([1, 16, 768]), torch.Size([1, 16, 768]), torch.Size([1, 16, 768]), torch.Size([1, 16, 768]), torch.Size([1, 16, 768]), torch.Size([1, 16, 768]), torch.Size([1, 16, 768]), torch.Size([1, 16, 768]), torch.Size([1, 16, 768])]\n",
      "[torch.Size([1, 12, 16, 16]), torch.Size([1, 12, 16, 16]), torch.Size([1, 12, 16, 16]), torch.Size([1, 12, 16, 16]), torch.Size([1, 12, 16, 16]), torch.Size([1, 12, 16, 16]), torch.Size([1, 12, 16, 16]), torch.Size([1, 12, 16, 16]), torch.Size([1, 12, 16, 16]), torch.Size([1, 12, 16, 16]), torch.Size([1, 12, 16, 16]), torch.Size([1, 12, 16, 16])]\n",
      "<class 'transformers.modeling_bert.BertForSequenceClassification'>\n",
      "[torch.Size([1, 16, 768]), torch.Size([1, 16, 768]), torch.Size([1, 16, 768]), torch.Size([1, 16, 768]), torch.Size([1, 16, 768]), torch.Size([1, 16, 768]), torch.Size([1, 16, 768]), torch.Size([1, 16, 768]), torch.Size([1, 16, 768]), torch.Size([1, 16, 768]), torch.Size([1, 16, 768]), torch.Size([1, 16, 768]), torch.Size([1, 16, 768])]\n",
      "[torch.Size([1, 12, 16, 16]), torch.Size([1, 12, 16, 16]), torch.Size([1, 12, 16, 16]), torch.Size([1, 12, 16, 16]), torch.Size([1, 12, 16, 16]), torch.Size([1, 12, 16, 16]), torch.Size([1, 12, 16, 16]), torch.Size([1, 12, 16, 16]), torch.Size([1, 12, 16, 16]), torch.Size([1, 12, 16, 16]), torch.Size([1, 12, 16, 16]), torch.Size([1, 12, 16, 16])]\n",
      "<class 'transformers.modeling_bert.BertForTokenClassification'>\n",
      "[torch.Size([1, 16, 768]), torch.Size([1, 16, 768]), torch.Size([1, 16, 768]), torch.Size([1, 16, 768]), torch.Size([1, 16, 768]), torch.Size([1, 16, 768]), torch.Size([1, 16, 768]), torch.Size([1, 16, 768]), torch.Size([1, 16, 768]), torch.Size([1, 16, 768]), torch.Size([1, 16, 768]), torch.Size([1, 16, 768]), torch.Size([1, 16, 768])]\n",
      "[torch.Size([1, 12, 16, 16]), torch.Size([1, 12, 16, 16]), torch.Size([1, 12, 16, 16]), torch.Size([1, 12, 16, 16]), torch.Size([1, 12, 16, 16]), torch.Size([1, 12, 16, 16]), torch.Size([1, 12, 16, 16]), torch.Size([1, 12, 16, 16]), torch.Size([1, 12, 16, 16]), torch.Size([1, 12, 16, 16]), torch.Size([1, 12, 16, 16]), torch.Size([1, 12, 16, 16])]\n",
      "<class 'transformers.modeling_bert.BertForQuestionAnswering'>\n",
      "[torch.Size([1, 16, 768]), torch.Size([1, 16, 768]), torch.Size([1, 16, 768]), torch.Size([1, 16, 768]), torch.Size([1, 16, 768]), torch.Size([1, 16, 768]), torch.Size([1, 16, 768]), torch.Size([1, 16, 768]), torch.Size([1, 16, 768]), torch.Size([1, 16, 768]), torch.Size([1, 16, 768]), torch.Size([1, 16, 768]), torch.Size([1, 16, 768])]\n",
      "[torch.Size([1, 12, 16, 16]), torch.Size([1, 12, 16, 16]), torch.Size([1, 12, 16, 16]), torch.Size([1, 12, 16, 16]), torch.Size([1, 12, 16, 16]), torch.Size([1, 12, 16, 16]), torch.Size([1, 12, 16, 16]), torch.Size([1, 12, 16, 16]), torch.Size([1, 12, 16, 16]), torch.Size([1, 12, 16, 16]), torch.Size([1, 12, 16, 16]), torch.Size([1, 12, 16, 16])]\n"
     ]
    }
   ],
   "source": [
    "BERT_MODEL_CLASSES = [BertModel, BertForPreTraining, BertForMaskedLM, BertForNextSentencePrediction,\n",
    "                      BertForSequenceClassification, BertForTokenClassification, BertForQuestionAnswering]\n",
    "\n",
    "pretrained_weights = 'bert-base-uncased'\n",
    "tokenizer = BertTokenizer.from_pretrained(pretrained_weights)\n",
    "for model_class in BERT_MODEL_CLASSES:\n",
    "    # Load pretrained model/tokenizer\n",
    "    model = model_class.from_pretrained(pretrained_weights)\n",
    "\n",
    "    # Models can return full list of hidden-states & attentions weights at each layer\n",
    "    print(model_class)\n",
    "    model = model_class.from_pretrained(pretrained_weights,\n",
    "                                        output_hidden_states=True,\n",
    "                                        output_attentions=True)\n",
    "    input_ids = torch.tensor([tokenizer.encode(\"Let's see all hidden-states and attentions on this text\")])\n",
    "    all_hidden_states, all_attentions = model(input_ids)[-2:]\n",
    "    print(list(map((lambda x: x.shape), all_hidden_states)))\n",
    "    print(list(map((lambda x: x.shape), all_attentions)))"
   ]
  },
  {
   "cell_type": "code",
   "execution_count": null,
   "metadata": {},
   "outputs": [],
   "source": []
  }
 ],
 "metadata": {
  "kernelspec": {
   "display_name": "Python 3",
   "language": "python",
   "name": "python3"
  },
  "language_info": {
   "codemirror_mode": {
    "name": "ipython",
    "version": 3
   },
   "file_extension": ".py",
   "mimetype": "text/x-python",
   "name": "python",
   "nbconvert_exporter": "python",
   "pygments_lexer": "ipython3",
   "version": "3.6.9"
  }
 },
 "nbformat": 4,
 "nbformat_minor": 4
}
